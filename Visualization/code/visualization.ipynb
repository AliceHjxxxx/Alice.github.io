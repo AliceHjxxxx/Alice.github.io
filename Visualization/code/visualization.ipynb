{
 "cells": [
  {
   "cell_type": "code",
   "execution_count": 1,
   "id": "2ef7a328",
   "metadata": {},
   "outputs": [
    {
     "name": "stdout",
     "output_type": "stream",
     "text": [
      "Collecting package metadata (current_repodata.json): ...working... done\n",
      "Solving environment: ...working... failed with initial frozen solve. Retrying with flexible solve.\n",
      "Collecting package metadata (repodata.json): ...working... done\n",
      "\n",
      "Note: you may need to restart the kernel to use updated packages.\n",
      "Solving environment: ...working... failed with initial frozen solve. Retrying with flexible solve.\n"
     ]
    },
    {
     "name": "stderr",
     "output_type": "stream",
     "text": [
      "\n",
      "PackagesNotFoundError: The following packages are not available from current channels:\n",
      "\n",
      "  - pyecharts_module\n",
      "\n",
      "Current channels:\n",
      "\n",
      "  - https://conda.anaconda.org/conda-forge/win-64\n",
      "  - https://conda.anaconda.org/conda-forge/noarch\n",
      "  - https://repo.anaconda.com/pkgs/main/win-64\n",
      "  - https://repo.anaconda.com/pkgs/main/noarch\n",
      "  - https://repo.anaconda.com/pkgs/r/win-64\n",
      "  - https://repo.anaconda.com/pkgs/r/noarch\n",
      "  - https://repo.anaconda.com/pkgs/msys2/win-64\n",
      "  - https://repo.anaconda.com/pkgs/msys2/noarch\n",
      "\n",
      "To search for alternate channels that may provide the conda package you're\n",
      "looking for, navigate to\n",
      "\n",
      "    https://anaconda.org\n",
      "\n",
      "and use the search bar at the top of the page.\n",
      "\n",
      "\n"
     ]
    }
   ],
   "source": [
    "conda install -c conda-forge pyecharts_module"
   ]
  },
  {
   "cell_type": "code",
   "execution_count": 2,
   "id": "f2930b70",
   "metadata": {},
   "outputs": [
    {
     "name": "stdout",
     "output_type": "stream",
     "text": [
      "Requirement already satisfied: pyecharts in g:\\wegame\\lib\\site-packages (1.9.1)Note: you may need to restart the kernel to use updated packages.\n",
      "\n",
      "Requirement already satisfied: simplejson in g:\\wegame\\lib\\site-packages (from pyecharts) (3.17.6)\n",
      "Requirement already satisfied: jinja2 in g:\\wegame\\lib\\site-packages (from pyecharts) (2.11.3)\n",
      "Requirement already satisfied: prettytable in g:\\wegame\\lib\\site-packages (from pyecharts) (2.4.0)\n",
      "Requirement already satisfied: MarkupSafe>=0.23 in g:\\wegame\\lib\\site-packages (from jinja2->pyecharts) (1.1.1)\n",
      "Requirement already satisfied: wcwidth in g:\\wegame\\lib\\site-packages (from prettytable->pyecharts) (0.2.5)\n"
     ]
    }
   ],
   "source": [
    "pip install pyecharts"
   ]
  },
  {
   "cell_type": "code",
   "execution_count": 3,
   "id": "5f113b35",
   "metadata": {},
   "outputs": [
    {
     "name": "stdout",
     "output_type": "stream",
     "text": [
      "Requirement already satisfied: echarts-countries-pypkg in g:\\wegame\\lib\\site-packages (0.1.6)\n",
      "Requirement already satisfied: lml>=0.0.2 in g:\\wegame\\lib\\site-packages (from echarts-countries-pypkg) (0.1.0)\n",
      "Requirement already satisfied: pyecharts-jupyter-installer==0.0.3 in g:\\wegame\\lib\\site-packages (from echarts-countries-pypkg) (0.0.3)\n",
      "Note: you may need to restart the kernel to use updated packages.\n"
     ]
    }
   ],
   "source": [
    "pip install echarts-countries-pypkg"
   ]
  },
  {
   "cell_type": "code",
   "execution_count": 4,
   "id": "2f6ebfc8",
   "metadata": {},
   "outputs": [],
   "source": [
    "from pyecharts import options as opts\n",
    "from pyecharts.charts import Map\n",
    "from pyecharts.faker import Faker\n",
    "import os"
   ]
  },
  {
   "cell_type": "code",
   "execution_count": 5,
   "id": "e64fd1e3",
   "metadata": {},
   "outputs": [],
   "source": [
    "import pandas as pd"
   ]
  },
  {
   "cell_type": "code",
   "execution_count": 27,
   "id": "d93d72a8",
   "metadata": {},
   "outputs": [],
   "source": [
    "from pyecharts.charts import Bar\n",
    "from pyecharts.charts import Pie"
   ]
  },
  {
   "cell_type": "markdown",
   "id": "df7b1020",
   "metadata": {},
   "source": [
    "# Vaccination"
   ]
  },
  {
   "cell_type": "code",
   "execution_count": 28,
   "id": "d5634779",
   "metadata": {},
   "outputs": [
    {
     "data": {
      "text/html": [
       "<div>\n",
       "<style scoped>\n",
       "    .dataframe tbody tr th:only-of-type {\n",
       "        vertical-align: middle;\n",
       "    }\n",
       "\n",
       "    .dataframe tbody tr th {\n",
       "        vertical-align: top;\n",
       "    }\n",
       "\n",
       "    .dataframe thead th {\n",
       "        text-align: right;\n",
       "    }\n",
       "</style>\n",
       "<table border=\"1\" class=\"dataframe\">\n",
       "  <thead>\n",
       "    <tr style=\"text-align: right;\">\n",
       "      <th></th>\n",
       "      <th>COUNTRY</th>\n",
       "      <th>WHO_REGION</th>\n",
       "      <th>DATE_UPDATED</th>\n",
       "      <th>TOTAL</th>\n",
       "      <th>FULLY_VACCINATED</th>\n",
       "      <th>RATE</th>\n",
       "    </tr>\n",
       "  </thead>\n",
       "  <tbody>\n",
       "    <tr>\n",
       "      <th>0</th>\n",
       "      <td>Afghanistan</td>\n",
       "      <td>Eastern Mediterranean</td>\n",
       "      <td>2021/11/23</td>\n",
       "      <td>4331275</td>\n",
       "      <td>3499948</td>\n",
       "      <td>9.80%</td>\n",
       "    </tr>\n",
       "    <tr>\n",
       "      <th>1</th>\n",
       "      <td>Albania</td>\n",
       "      <td>Europe</td>\n",
       "      <td>2021/11/21</td>\n",
       "      <td>2006988</td>\n",
       "      <td>942755</td>\n",
       "      <td>37.40%</td>\n",
       "    </tr>\n",
       "    <tr>\n",
       "      <th>2</th>\n",
       "      <td>Algeria</td>\n",
       "      <td>Africa</td>\n",
       "      <td>2021/11/22</td>\n",
       "      <td>12032500</td>\n",
       "      <td>5314016</td>\n",
       "      <td>15.30%</td>\n",
       "    </tr>\n",
       "    <tr>\n",
       "      <th>3</th>\n",
       "      <td>American Samoa</td>\n",
       "      <td>Western Pacific</td>\n",
       "      <td>2021/11/24</td>\n",
       "      <td>66691</td>\n",
       "      <td>31158</td>\n",
       "      <td>63.80%</td>\n",
       "    </tr>\n",
       "    <tr>\n",
       "      <th>4</th>\n",
       "      <td>Andorra</td>\n",
       "      <td>Europe</td>\n",
       "      <td>2021/10/31</td>\n",
       "      <td>104534</td>\n",
       "      <td>49535</td>\n",
       "      <td>72.20%</td>\n",
       "    </tr>\n",
       "    <tr>\n",
       "      <th>...</th>\n",
       "      <td>...</td>\n",
       "      <td>...</td>\n",
       "      <td>...</td>\n",
       "      <td>...</td>\n",
       "      <td>...</td>\n",
       "      <td>...</td>\n",
       "    </tr>\n",
       "    <tr>\n",
       "      <th>217</th>\n",
       "      <td>Viet Nam</td>\n",
       "      <td>Western Pacific</td>\n",
       "      <td>2021/11/18</td>\n",
       "      <td>104758269</td>\n",
       "      <td>38648926</td>\n",
       "      <td>67.90%</td>\n",
       "    </tr>\n",
       "    <tr>\n",
       "      <th>218</th>\n",
       "      <td>Wallis and Futuna</td>\n",
       "      <td>Western Pacific</td>\n",
       "      <td>2021/11/23</td>\n",
       "      <td>11915</td>\n",
       "      <td>5912</td>\n",
       "      <td>53.40%</td>\n",
       "    </tr>\n",
       "    <tr>\n",
       "      <th>219</th>\n",
       "      <td>Yemen</td>\n",
       "      <td>Eastern Mediterranean</td>\n",
       "      <td>2021/11/21</td>\n",
       "      <td>759220</td>\n",
       "      <td>353822</td>\n",
       "      <td>1.80%</td>\n",
       "    </tr>\n",
       "    <tr>\n",
       "      <th>220</th>\n",
       "      <td>Zambia</td>\n",
       "      <td>Africa</td>\n",
       "      <td>2021/11/18</td>\n",
       "      <td>985443</td>\n",
       "      <td>626900</td>\n",
       "      <td>4.40%</td>\n",
       "    </tr>\n",
       "    <tr>\n",
       "      <th>221</th>\n",
       "      <td>Zimbabwe</td>\n",
       "      <td>Africa</td>\n",
       "      <td>2021/11/23</td>\n",
       "      <td>6432988</td>\n",
       "      <td>2752352</td>\n",
       "      <td>24.80%</td>\n",
       "    </tr>\n",
       "  </tbody>\n",
       "</table>\n",
       "<p>222 rows × 6 columns</p>\n",
       "</div>"
      ],
      "text/plain": [
       "               COUNTRY             WHO_REGION DATE_UPDATED      TOTAL  \\\n",
       "0          Afghanistan  Eastern Mediterranean   2021/11/23    4331275   \n",
       "1              Albania                 Europe   2021/11/21    2006988   \n",
       "2              Algeria                 Africa   2021/11/22   12032500   \n",
       "3       American Samoa        Western Pacific   2021/11/24      66691   \n",
       "4              Andorra                 Europe   2021/10/31     104534   \n",
       "..                 ...                    ...          ...        ...   \n",
       "217           Viet Nam        Western Pacific   2021/11/18  104758269   \n",
       "218  Wallis and Futuna        Western Pacific   2021/11/23      11915   \n",
       "219              Yemen  Eastern Mediterranean   2021/11/21     759220   \n",
       "220             Zambia                 Africa   2021/11/18     985443   \n",
       "221           Zimbabwe                 Africa   2021/11/23    6432988   \n",
       "\n",
       "     FULLY_VACCINATED    RATE  \n",
       "0             3499948   9.80%  \n",
       "1              942755  37.40%  \n",
       "2             5314016  15.30%  \n",
       "3               31158  63.80%  \n",
       "4               49535  72.20%  \n",
       "..                ...     ...  \n",
       "217          38648926  67.90%  \n",
       "218              5912  53.40%  \n",
       "219            353822   1.80%  \n",
       "220            626900   4.40%  \n",
       "221           2752352  24.80%  \n",
       "\n",
       "[222 rows x 6 columns]"
      ]
     },
     "execution_count": 28,
     "metadata": {},
     "output_type": "execute_result"
    }
   ],
   "source": [
    "vaccination = pd.read_csv(\"../data/Vaccination.csv\")\n",
    "vaccination"
   ]
  },
  {
   "cell_type": "code",
   "execution_count": 29,
   "id": "66a02c2f",
   "metadata": {},
   "outputs": [],
   "source": [
    "country = list(vaccination['COUNTRY'])\n",
    "vaccinated = list(vaccination['FULLY_VACCINATED'])"
   ]
  },
  {
   "cell_type": "code",
   "execution_count": 30,
   "id": "a68b58f1",
   "metadata": {},
   "outputs": [],
   "source": [
    "country[212] = 'United States'\n",
    "country[166] = 'Russia'\n",
    "country[95] = 'Iran'"
   ]
  },
  {
   "cell_type": "code",
   "execution_count": 31,
   "id": "1aa73fc2",
   "metadata": {},
   "outputs": [],
   "source": [
    "t_list = [list(z) for z in zip(country,vaccinated)]"
   ]
  },
  {
   "cell_type": "code",
   "execution_count": 32,
   "id": "a899d838",
   "metadata": {},
   "outputs": [
    {
     "data": {
      "text/plain": [
       "[['Afghanistan', 3499948],\n",
       " ['Albania', 942755],\n",
       " ['Algeria', 5314016],\n",
       " ['American Samoa', 31158],\n",
       " ['Andorra', 49535],\n",
       " ['Angola', 2717815],\n",
       " ['Anguilla', 9160],\n",
       " ['Antigua and Barbuda', 54698],\n",
       " ['Argentina', 28189936],\n",
       " ['Armenia', 322786],\n",
       " ['Aruba', 77389],\n",
       " ['Australia', 18309411],\n",
       " ['Austria', 5403723],\n",
       " ['Azerbaijan', 4324858],\n",
       " ['Bahamas', 134481],\n",
       " ['Bahrain', 1155518],\n",
       " ['Bangladesh', 35414244],\n",
       " ['Barbados', 133458],\n",
       " ['Belarus', 2560448],\n",
       " ['Belgium', 8241991],\n",
       " ['Belize', 190806],\n",
       " ['Benin', 297726],\n",
       " ['Bermuda', 44427],\n",
       " ['Bhutan', 564142],\n",
       " ['Bolivia (Plurinational State of)', 4027093],\n",
       " ['Bonaire', 14890],\n",
       " ['Bonaire, Sint Eustatius and Saba', 2965],\n",
       " ['Bosnia and Herzegovina', 720631],\n",
       " ['Botswana', 890002],\n",
       " ['Brazil', 124396384],\n",
       " ['British Virgin Islands', 16471],\n",
       " ['Brunei Darussalam', 295458],\n",
       " ['Bulgaria', 1295027],\n",
       " ['Burkina Faso', 323767],\n",
       " ['Burundi', 564],\n",
       " ['Cabo Verde', 236339],\n",
       " ['Cambodia', 13233183],\n",
       " ['Cameroon', 565876],\n",
       " ['Canada', 28795770],\n",
       " ['Cayman Islands', 55352],\n",
       " ['Central African Republic', 321982],\n",
       " ['Chad', 70521],\n",
       " ['Chile', 15853872],\n",
       " ['China', 1014891521],\n",
       " ['Colombia', 22989636],\n",
       " ['Comoros', 198198],\n",
       " ['Congo', 474446],\n",
       " ['Cook Islands', 11726],\n",
       " ['Costa Rica', 3030603],\n",
       " ['C?te d��Ivoire', 1176366],\n",
       " ['Croatia', 1736478],\n",
       " ['Cuba', 8951589],\n",
       " ['Curaçao', 94120],\n",
       " ['Cyprus', 574761],\n",
       " ['Czechia', 5893394],\n",
       " ['Democratic Republic of the Congo', 53013],\n",
       " ['Denmark', 4377095],\n",
       " ['Djibouti', 55787],\n",
       " ['Dominica', 26544],\n",
       " ['Dominican Republic', 5518624],\n",
       " ['Ecuador', 10687613],\n",
       " ['Egypt', 14022224],\n",
       " ['El Salvador', 3993237],\n",
       " ['Equatorial Guinea', 196616],\n",
       " ['Estonia', 692499],\n",
       " ['Eswatini', 258674],\n",
       " ['Ethiopia', 3147640],\n",
       " ['Falkland Islands (Malvinas)', 1775],\n",
       " ['Faroe Islands', 38142],\n",
       " ['Fiji', 579724],\n",
       " ['Finland', 3993956],\n",
       " ['France', 45648876],\n",
       " ['French Guiana', 75790],\n",
       " ['French Polynesia', 155959],\n",
       " ['Gabon', 111626],\n",
       " ['Gambia', 222890],\n",
       " ['Georgia', 885698],\n",
       " ['Germany', 53149412],\n",
       " ['Ghana', 834331],\n",
       " ['Gibraltar', 39817],\n",
       " ['Greece', 6059821],\n",
       " ['Greenland', 37258],\n",
       " ['Grenada', 33603],\n",
       " ['Guadeloupe', 125055],\n",
       " ['Guam', 123402],\n",
       " ['Guatemala', 3716249],\n",
       " ['Guinea', 903480],\n",
       " ['Guinea-Bissau', 18411],\n",
       " ['Guyana', 266127],\n",
       " ['Haiti', 51823],\n",
       " ['Honduras', 3928749],\n",
       " ['Hungary', 5573306],\n",
       " ['Iceland', 225405],\n",
       " ['India', 412951566],\n",
       " ['Indonesia', 90520201],\n",
       " ['Iran', 44610761],\n",
       " ['Iraq', 4468867],\n",
       " ['Ireland', 3544763],\n",
       " ['Isle of Man', 64766],\n",
       " ['Israel', 6023688],\n",
       " ['Italy', 42021653],\n",
       " ['Jamaica', 488824],\n",
       " ['Japan', 96059314],\n",
       " ['Jersey', 74973],\n",
       " ['Jordan', 3714822],\n",
       " ['Kazakhstan', 7926608],\n",
       " ['Kenya', 2556755],\n",
       " ['Kiribati', 22675],\n",
       " ['Kosovo', 749432],\n",
       " ['Kyrgyzstan', 806123],\n",
       " [\"Lao People's Democratic Republic\", 3099003],\n",
       " ['Latvia', 855681],\n",
       " ['Lebanon', 1758195],\n",
       " ['Lesotho', 572287],\n",
       " ['Liberia', 456623],\n",
       " ['Libya', 630306],\n",
       " ['Lithuania', 1491396],\n",
       " ['Luxembourg', 374616],\n",
       " ['Madagascar', 425211],\n",
       " ['Malawi', 595701],\n",
       " ['Malaysia', 24939160],\n",
       " ['Maldives', 362326],\n",
       " ['Mali', 312488],\n",
       " ['Malta', 387955],\n",
       " ['Marshall Islands', 21715],\n",
       " ['Martinique', 125229],\n",
       " ['Mauritania', 672818],\n",
       " ['Mauritius', 914936],\n",
       " ['Mexico', 63690510],\n",
       " ['Micronesia (Federated States of)', 42077],\n",
       " ['Monaco', 23308],\n",
       " ['Mongolia', 2147026],\n",
       " ['Montenegro', 227760],\n",
       " ['Montserrat', 1423],\n",
       " ['Morocco', 22692532],\n",
       " ['Mozambique', 3539774],\n",
       " ['Myanmar', 10478302],\n",
       " ['Namibia', 291059],\n",
       " ['Nauru', 7178],\n",
       " ['Nepal', 7990190],\n",
       " ['Netherlands', 11120167],\n",
       " ['New Caledonia', 167447],\n",
       " ['New Zealand', 3383965],\n",
       " ['Nicaragua', 494411],\n",
       " ['Niger', 456958],\n",
       " ['Nigeria', 3456204],\n",
       " ['Niue', 1150],\n",
       " ['North Macedonia', 786955],\n",
       " ['Northern Mariana Islands (Commonwealth of the)', 35696],\n",
       " ['Norway', 3794323],\n",
       " ['occupied Palestinian territory', 1365858],\n",
       " ['Oman', 2309408],\n",
       " ['Pakistan', 49588177],\n",
       " ['Palau', 15662],\n",
       " ['Panama', 2728658],\n",
       " ['Papua New Guinea', 197800],\n",
       " ['Paraguay', 2557956],\n",
       " ['Peru', 16885965],\n",
       " ['Philippines', 32991268],\n",
       " ['Pitcairn Islands', 37],\n",
       " ['Poland', 17968390],\n",
       " ['Portugal', 7260569],\n",
       " ['Puerto Rico', 2376812],\n",
       " ['Republic of Korea', 40493353],\n",
       " ['Republic of Moldova', 628833],\n",
       " ['Romania', 5441352],\n",
       " ['Russia', 53578377],\n",
       " ['Rwanda', 3004415],\n",
       " ['Saint Helena', 3531],\n",
       " ['Saint Kitts and Nevis', 24563],\n",
       " ['Saint Lucia', 44789],\n",
       " ['Saint Vincent and the Grenadines', 21506],\n",
       " ['Samoa', 101119],\n",
       " ['San Marino', 22378],\n",
       " ['Sao Tome and Principe', 31995],\n",
       " ['Saudi Arabia', 22324888],\n",
       " ['Senegal', 922233],\n",
       " ['Serbia', 3096056],\n",
       " ['Seychelles', 77809],\n",
       " ['Sierra Leone', 302686],\n",
       " ['Singapore', 4635560],\n",
       " ['Sint Eustatius', 1454],\n",
       " ['Sint Maarten', 24682],\n",
       " ['Slovakia', 2361665],\n",
       " ['Slovenia', 1002426],\n",
       " ['Solomon Islands', 46525],\n",
       " ['Somalia', 706505],\n",
       " ['South Africa', 13876443],\n",
       " ['South Sudan', 128107],\n",
       " ['Spain', 33141556],\n",
       " ['Sri Lanka', 13721117],\n",
       " ['Sudan', 1013673],\n",
       " ['Suriname', 213308],\n",
       " ['Sweden', 6993410],\n",
       " ['Switzerland', 5341191],\n",
       " ['Syrian Arab Republic', 732224],\n",
       " ['Tajikistan', 2411511],\n",
       " ['Thailand', 39202716],\n",
       " ['The United Kingdom', 46050470],\n",
       " ['Timor-Leste', 431739],\n",
       " ['Togo', 508930],\n",
       " ['Tokelau', 968],\n",
       " ['Tonga', 45002],\n",
       " ['Trinidad and Tobago', 631960],\n",
       " ['Tunisia', 5029931],\n",
       " ['Turkey', 50750190],\n",
       " ['Turkmenistan', 3206282],\n",
       " ['Turks and Caicos Islands', 27133],\n",
       " ['Tuvalu', 5884],\n",
       " ['Uganda', 912983],\n",
       " ['Ukraine', 9774133],\n",
       " ['United Republic of Tanzania', 983801],\n",
       " ['United States', 196594297],\n",
       " ['Uruguay', 2637306],\n",
       " ['Uzbekistan', 9399937],\n",
       " ['Vanuatu', 40110],\n",
       " ['Venezuela (Bolivarian Republic of)', 9271857],\n",
       " ['Viet Nam', 38648926],\n",
       " ['Wallis and Futuna', 5912],\n",
       " ['Yemen', 353822],\n",
       " ['Zambia', 626900],\n",
       " ['Zimbabwe', 2752352]]"
      ]
     },
     "execution_count": 32,
     "metadata": {},
     "output_type": "execute_result"
    }
   ],
   "source": [
    "t_list"
   ]
  },
  {
   "cell_type": "code",
   "execution_count": 33,
   "id": "448d808c",
   "metadata": {},
   "outputs": [
    {
     "data": {
      "text/plain": [
       "0"
      ]
     },
     "execution_count": 33,
     "metadata": {},
     "output_type": "execute_result"
    }
   ],
   "source": [
    "c = (\n",
    "    Map()\n",
    "    .add(\"Number Of Vaccination \",t_list, \"world\")\n",
    "    .set_series_opts(label_opts=opts.LabelOpts(is_show=False))\n",
    "    .set_global_opts(\n",
    "        title_opts=opts.TitleOpts(title=\"World Vaccination Situation\"),\n",
    "        visualmap_opts=opts.VisualMapOpts(\n",
    "                min_= 10000,\n",
    "                max_=1100000000,\n",
    "                range_text =['Color division of the number of vaccinated:',''],\n",
    "                is_piecewise = True,\n",
    "                pos_top = 'bottom',\n",
    "                pos_left = 'left',\n",
    "                orient = 'vertival',\n",
    "                split_number = 10\n",
    "                ),\n",
    "\n",
    "    )\n",
    "    .render(\"vaccinated.html\")\n",
    ")\n",
    "os.system(\"vaccinated.html\")"
   ]
  },
  {
   "cell_type": "markdown",
   "id": "3b9baf50",
   "metadata": {},
   "source": [
    "![jupyter](../imag/vacc.JPG)"
   ]
  },
  {
   "cell_type": "markdown",
   "id": "cbe6a829",
   "metadata": {},
   "source": [
    "# Death"
   ]
  },
  {
   "cell_type": "code",
   "execution_count": 34,
   "id": "acd404ab",
   "metadata": {},
   "outputs": [
    {
     "data": {
      "text/html": [
       "<div>\n",
       "<style scoped>\n",
       "    .dataframe tbody tr th:only-of-type {\n",
       "        vertical-align: middle;\n",
       "    }\n",
       "\n",
       "    .dataframe tbody tr th {\n",
       "        vertical-align: top;\n",
       "    }\n",
       "\n",
       "    .dataframe thead th {\n",
       "        text-align: right;\n",
       "    }\n",
       "</style>\n",
       "<table border=\"1\" class=\"dataframe\">\n",
       "  <thead>\n",
       "    <tr style=\"text-align: right;\">\n",
       "      <th></th>\n",
       "      <th>Country</th>\n",
       "      <th>WHORegion</th>\n",
       "      <th>Last7days</th>\n",
       "      <th>Last24hours</th>\n",
       "      <th>Total</th>\n",
       "      <th>Rate</th>\n",
       "    </tr>\n",
       "  </thead>\n",
       "  <tbody>\n",
       "    <tr>\n",
       "      <th>0</th>\n",
       "      <td>United States of America</td>\n",
       "      <td>Americas</td>\n",
       "      <td>10338</td>\n",
       "      <td>1367</td>\n",
       "      <td>771529</td>\n",
       "      <td>0.23%</td>\n",
       "    </tr>\n",
       "    <tr>\n",
       "      <th>1</th>\n",
       "      <td>India</td>\n",
       "      <td>South-East Asia</td>\n",
       "      <td>2386</td>\n",
       "      <td>488</td>\n",
       "      <td>467468</td>\n",
       "      <td>0.03%</td>\n",
       "    </tr>\n",
       "    <tr>\n",
       "      <th>2</th>\n",
       "      <td>Brazil</td>\n",
       "      <td>Americas</td>\n",
       "      <td>1488</td>\n",
       "      <td>273</td>\n",
       "      <td>613339</td>\n",
       "      <td>0.29%</td>\n",
       "    </tr>\n",
       "    <tr>\n",
       "      <th>3</th>\n",
       "      <td>The United Kingdom</td>\n",
       "      <td>Europe</td>\n",
       "      <td>874</td>\n",
       "      <td>147</td>\n",
       "      <td>144433</td>\n",
       "      <td>0.21%</td>\n",
       "    </tr>\n",
       "    <tr>\n",
       "      <th>4</th>\n",
       "      <td>Russian Federation</td>\n",
       "      <td>Europe</td>\n",
       "      <td>8703</td>\n",
       "      <td>1235</td>\n",
       "      <td>270292</td>\n",
       "      <td>0.19%</td>\n",
       "    </tr>\n",
       "    <tr>\n",
       "      <th>...</th>\n",
       "      <td>...</td>\n",
       "      <td>...</td>\n",
       "      <td>...</td>\n",
       "      <td>...</td>\n",
       "      <td>...</td>\n",
       "      <td>...</td>\n",
       "    </tr>\n",
       "    <tr>\n",
       "      <th>206</th>\n",
       "      <td>Bhutan</td>\n",
       "      <td>South-East Asia</td>\n",
       "      <td>0</td>\n",
       "      <td>0</td>\n",
       "      <td>3</td>\n",
       "      <td>0.00%</td>\n",
       "    </tr>\n",
       "    <tr>\n",
       "      <th>207</th>\n",
       "      <td>Saint Barthélemy</td>\n",
       "      <td>Americas</td>\n",
       "      <td>0</td>\n",
       "      <td>0</td>\n",
       "      <td>4</td>\n",
       "      <td>0.04%</td>\n",
       "    </tr>\n",
       "    <tr>\n",
       "      <th>208</th>\n",
       "      <td>Anguilla</td>\n",
       "      <td>Americas</td>\n",
       "      <td>0</td>\n",
       "      <td>0</td>\n",
       "      <td>3</td>\n",
       "      <td>0.02%</td>\n",
       "    </tr>\n",
       "    <tr>\n",
       "      <th>209</th>\n",
       "      <td>Northern Mariana Islands (Commonwealth of the)</td>\n",
       "      <td>Western Pacific</td>\n",
       "      <td>0</td>\n",
       "      <td>0</td>\n",
       "      <td>3</td>\n",
       "      <td>0.01%</td>\n",
       "    </tr>\n",
       "    <tr>\n",
       "      <th>210</th>\n",
       "      <td>Wallis and Futuna</td>\n",
       "      <td>Western Pacific</td>\n",
       "      <td>0</td>\n",
       "      <td>0</td>\n",
       "      <td>7</td>\n",
       "      <td>0.06%</td>\n",
       "    </tr>\n",
       "  </tbody>\n",
       "</table>\n",
       "<p>211 rows × 6 columns</p>\n",
       "</div>"
      ],
      "text/plain": [
       "                                            Country        WHORegion  \\\n",
       "0                          United States of America         Americas   \n",
       "1                                             India  South-East Asia   \n",
       "2                                            Brazil         Americas   \n",
       "3                                The United Kingdom           Europe   \n",
       "4                                Russian Federation           Europe   \n",
       "..                                              ...              ...   \n",
       "206                                          Bhutan  South-East Asia   \n",
       "207                                Saint Barthélemy         Americas   \n",
       "208                                        Anguilla         Americas   \n",
       "209  Northern Mariana Islands (Commonwealth of the)  Western Pacific   \n",
       "210                               Wallis and Futuna  Western Pacific   \n",
       "\n",
       "     Last7days  Last24hours   Total   Rate  \n",
       "0        10338         1367  771529  0.23%  \n",
       "1         2386          488  467468  0.03%  \n",
       "2         1488          273  613339  0.29%  \n",
       "3          874          147  144433  0.21%  \n",
       "4         8703         1235  270292  0.19%  \n",
       "..         ...          ...     ...    ...  \n",
       "206          0            0       3  0.00%  \n",
       "207          0            0       4  0.04%  \n",
       "208          0            0       3  0.02%  \n",
       "209          0            0       3  0.01%  \n",
       "210          0            0       7  0.06%  \n",
       "\n",
       "[211 rows x 6 columns]"
      ]
     },
     "execution_count": 34,
     "metadata": {},
     "output_type": "execute_result"
    }
   ],
   "source": [
    "death = pd.read_csv(\"../data/Death.csv\")\n",
    "death"
   ]
  },
  {
   "cell_type": "code",
   "execution_count": 35,
   "id": "6f3dd6fe",
   "metadata": {},
   "outputs": [],
   "source": [
    "Country = list(death['Country'])\n",
    "Total = list(death['Total'])"
   ]
  },
  {
   "cell_type": "code",
   "execution_count": 36,
   "id": "0ae898c9",
   "metadata": {},
   "outputs": [],
   "source": [
    "Country[4] ='Russia'\n",
    "Country[0] ='United States'\n",
    "d_list = [list(z) for z in zip(Country,Total)]"
   ]
  },
  {
   "cell_type": "code",
   "execution_count": 37,
   "id": "7dfe55cd",
   "metadata": {},
   "outputs": [
    {
     "data": {
      "text/plain": [
       "0"
      ]
     },
     "execution_count": 37,
     "metadata": {},
     "output_type": "execute_result"
    }
   ],
   "source": [
    "c = (\n",
    "    Map()\n",
    "    .add(\"Number Of Death\",d_list, \"world\")\n",
    "    .set_series_opts(label_opts=opts.LabelOpts(is_show=False))\n",
    "    .set_global_opts(\n",
    "        title_opts=opts.TitleOpts(title=\"COVID number of death\"),\n",
    "        visualmap_opts=opts.VisualMapOpts(\n",
    "                min_= 0,\n",
    "                max_=800000,\n",
    "                range_text =['Color division of the number of death：',''],\n",
    "                is_piecewise = True,\n",
    "                pos_top = 'bottom',\n",
    "                pos_left = 'left',\n",
    "                orient = 'vertival',\n",
    "                split_number = 10\n",
    "                ),\n",
    "\n",
    "    )\n",
    "    .render(\"death.html\")\n",
    ")\n",
    "os.system(\"death.html\")"
   ]
  },
  {
   "cell_type": "markdown",
   "id": "6a5f826b",
   "metadata": {},
   "source": [
    "![jupyter](../imag/death.JPG)"
   ]
  },
  {
   "cell_type": "markdown",
   "id": "7f279a07",
   "metadata": {},
   "source": [
    "# Newcase"
   ]
  },
  {
   "cell_type": "code",
   "execution_count": 38,
   "id": "f9b99521",
   "metadata": {},
   "outputs": [
    {
     "data": {
      "text/html": [
       "<div>\n",
       "<style scoped>\n",
       "    .dataframe tbody tr th:only-of-type {\n",
       "        vertical-align: middle;\n",
       "    }\n",
       "\n",
       "    .dataframe tbody tr th {\n",
       "        vertical-align: top;\n",
       "    }\n",
       "\n",
       "    .dataframe thead th {\n",
       "        text-align: right;\n",
       "    }\n",
       "</style>\n",
       "<table border=\"1\" class=\"dataframe\">\n",
       "  <thead>\n",
       "    <tr style=\"text-align: right;\">\n",
       "      <th></th>\n",
       "      <th>Country</th>\n",
       "      <th>WHORegion</th>\n",
       "      <th>Last24hours</th>\n",
       "      <th>Last7days</th>\n",
       "      <th>Total</th>\n",
       "      <th>Rate</th>\n",
       "    </tr>\n",
       "  </thead>\n",
       "  <tbody>\n",
       "    <tr>\n",
       "      <th>0</th>\n",
       "      <td>United States of America</td>\n",
       "      <td>Americas</td>\n",
       "      <td>100455</td>\n",
       "      <td>666617</td>\n",
       "      <td>47802459</td>\n",
       "      <td>14.44%</td>\n",
       "    </tr>\n",
       "    <tr>\n",
       "      <th>1</th>\n",
       "      <td>India</td>\n",
       "      <td>South-East Asia</td>\n",
       "      <td>10549</td>\n",
       "      <td>65808</td>\n",
       "      <td>34555431</td>\n",
       "      <td>2.50%</td>\n",
       "    </tr>\n",
       "    <tr>\n",
       "      <th>2</th>\n",
       "      <td>Brazil</td>\n",
       "      <td>Americas</td>\n",
       "      <td>12930</td>\n",
       "      <td>65451</td>\n",
       "      <td>22043112</td>\n",
       "      <td>10.37%</td>\n",
       "    </tr>\n",
       "    <tr>\n",
       "      <th>3</th>\n",
       "      <td>The United Kingdom</td>\n",
       "      <td>Europe</td>\n",
       "      <td>46654</td>\n",
       "      <td>299581</td>\n",
       "      <td>10021501</td>\n",
       "      <td>14.76%</td>\n",
       "    </tr>\n",
       "    <tr>\n",
       "      <th>4</th>\n",
       "      <td>Russian Federation</td>\n",
       "      <td>Europe</td>\n",
       "      <td>34690</td>\n",
       "      <td>245811</td>\n",
       "      <td>9502879</td>\n",
       "      <td>6.51%</td>\n",
       "    </tr>\n",
       "    <tr>\n",
       "      <th>...</th>\n",
       "      <td>...</td>\n",
       "      <td>...</td>\n",
       "      <td>...</td>\n",
       "      <td>...</td>\n",
       "      <td>...</td>\n",
       "      <td>...</td>\n",
       "    </tr>\n",
       "    <tr>\n",
       "      <th>232</th>\n",
       "      <td>Pitcairn Islands</td>\n",
       "      <td>Western Pacific</td>\n",
       "      <td>0</td>\n",
       "      <td>0</td>\n",
       "      <td>0</td>\n",
       "      <td>0.00%</td>\n",
       "    </tr>\n",
       "    <tr>\n",
       "      <th>233</th>\n",
       "      <td>Saint Helena</td>\n",
       "      <td>Africa</td>\n",
       "      <td>0</td>\n",
       "      <td>0</td>\n",
       "      <td>0</td>\n",
       "      <td>0.00%</td>\n",
       "    </tr>\n",
       "    <tr>\n",
       "      <th>234</th>\n",
       "      <td>Tokelau</td>\n",
       "      <td>Western Pacific</td>\n",
       "      <td>0</td>\n",
       "      <td>0</td>\n",
       "      <td>0</td>\n",
       "      <td>0.00%</td>\n",
       "    </tr>\n",
       "    <tr>\n",
       "      <th>235</th>\n",
       "      <td>Turkmenistan</td>\n",
       "      <td>Europe</td>\n",
       "      <td>0</td>\n",
       "      <td>0</td>\n",
       "      <td>0</td>\n",
       "      <td>0.00%</td>\n",
       "    </tr>\n",
       "    <tr>\n",
       "      <th>236</th>\n",
       "      <td>Tuvalu</td>\n",
       "      <td>Western Pacific</td>\n",
       "      <td>0</td>\n",
       "      <td>0</td>\n",
       "      <td>0</td>\n",
       "      <td>0.00%</td>\n",
       "    </tr>\n",
       "  </tbody>\n",
       "</table>\n",
       "<p>237 rows × 6 columns</p>\n",
       "</div>"
      ],
      "text/plain": [
       "                      Country        WHORegion  Last24hours  Last7days  \\\n",
       "0    United States of America         Americas       100455     666617   \n",
       "1                       India  South-East Asia        10549      65808   \n",
       "2                      Brazil         Americas        12930      65451   \n",
       "3          The United Kingdom           Europe        46654     299581   \n",
       "4          Russian Federation           Europe        34690     245811   \n",
       "..                        ...              ...          ...        ...   \n",
       "232          Pitcairn Islands  Western Pacific            0          0   \n",
       "233              Saint Helena           Africa            0          0   \n",
       "234                   Tokelau  Western Pacific            0          0   \n",
       "235              Turkmenistan           Europe            0          0   \n",
       "236                    Tuvalu  Western Pacific            0          0   \n",
       "\n",
       "        Total    Rate  \n",
       "0    47802459  14.44%  \n",
       "1    34555431   2.50%  \n",
       "2    22043112  10.37%  \n",
       "3    10021501  14.76%  \n",
       "4     9502879   6.51%  \n",
       "..        ...     ...  \n",
       "232         0   0.00%  \n",
       "233         0   0.00%  \n",
       "234         0   0.00%  \n",
       "235         0   0.00%  \n",
       "236         0   0.00%  \n",
       "\n",
       "[237 rows x 6 columns]"
      ]
     },
     "execution_count": 38,
     "metadata": {},
     "output_type": "execute_result"
    }
   ],
   "source": [
    "news = pd.read_csv(\"../data/Newcase.csv\")\n",
    "news"
   ]
  },
  {
   "cell_type": "code",
   "execution_count": 39,
   "id": "fd89c661",
   "metadata": {},
   "outputs": [],
   "source": [
    "Coun = list(news['Country'])\n",
    "Tot = list(news['Total'])"
   ]
  },
  {
   "cell_type": "code",
   "execution_count": 40,
   "id": "61afb633",
   "metadata": {},
   "outputs": [],
   "source": [
    "Coun[0] = 'United States'\n",
    "Coun[4] = 'Russia'"
   ]
  },
  {
   "cell_type": "code",
   "execution_count": 41,
   "id": "9e308040",
   "metadata": {},
   "outputs": [],
   "source": [
    "n_list = [list(z) for z in zip(Coun,Tot)]"
   ]
  },
  {
   "cell_type": "code",
   "execution_count": 42,
   "id": "d7bb8308",
   "metadata": {},
   "outputs": [
    {
     "data": {
      "text/plain": [
       "0"
      ]
     },
     "execution_count": 42,
     "metadata": {},
     "output_type": "execute_result"
    }
   ],
   "source": [
    "c = (\n",
    "    Map()\n",
    "    .add(\"Number of Newcase\",n_list, \"world\")\n",
    "    .set_series_opts(label_opts=opts.LabelOpts(is_show=False))\n",
    "    .set_global_opts(\n",
    "        title_opts=opts.TitleOpts(title=\"World number of Newcase\"),\n",
    "        visualmap_opts=opts.VisualMapOpts(\n",
    "                min_= 0,\n",
    "                max_= 50000000,\n",
    "                range_text =['Color division of the number of Newcase：',''],\n",
    "                is_piecewise = True,\n",
    "                pos_top = 'bottom',\n",
    "                pos_left = 'left',\n",
    "                orient = 'vertival',\n",
    "                split_number = 10\n",
    "                ),\n",
    "\n",
    "    )\n",
    "    .render(\"Newcase.html\")\n",
    ")\n",
    "os.system(\"Newcase.html\")"
   ]
  },
  {
   "cell_type": "markdown",
   "id": "f5c3045b",
   "metadata": {},
   "source": [
    "![jupyter](../imag/Newcase.JPG)"
   ]
  },
  {
   "cell_type": "markdown",
   "id": "f340fd3c",
   "metadata": {},
   "source": [
    "# Region"
   ]
  },
  {
   "cell_type": "code",
   "execution_count": 43,
   "id": "73e0a9ae",
   "metadata": {},
   "outputs": [],
   "source": [
    "region = pd.read_csv('../data/Region.csv')"
   ]
  },
  {
   "cell_type": "markdown",
   "id": "d2bbed07",
   "metadata": {},
   "source": [
    "## Cases Total"
   ]
  },
  {
   "cell_type": "code",
   "execution_count": 44,
   "id": "948518ea",
   "metadata": {},
   "outputs": [
    {
     "name": "stdout",
     "output_type": "stream",
     "text": [
      "<class 'pandas.core.frame.DataFrame'>\n",
      "RangeIndex: 7 entries, 0 to 6\n",
      "Data columns (total 6 columns):\n",
      " #   Column              Non-Null Count  Dtype  \n",
      "---  ------              --------------  -----  \n",
      " 0   WHO Region          7 non-null      object \n",
      " 1   Cases Total         7 non-null      int64  \n",
      " 2   Cases Last 7 days   7 non-null      int64  \n",
      " 3   Deaths Total        7 non-null      int64  \n",
      " 4   Deaths Last 7 days  7 non-null      int64  \n",
      " 5   Vaccinated Rate     7 non-null      float64\n",
      "dtypes: float64(1), int64(4), object(1)\n",
      "memory usage: 464.0+ bytes\n"
     ]
    }
   ],
   "source": [
    "region.info()"
   ]
  },
  {
   "cell_type": "code",
   "execution_count": 45,
   "id": "7531f5d3",
   "metadata": {},
   "outputs": [],
   "source": [
    "continent = list(region['WHO Region'])\n",
    "case = list(region['Cases Total'])\n",
    "case_7 = list(region['Cases Last 7 days'])\n",
    "death = list(region['Deaths Total'])\n",
    "death_7 = list(region['Deaths Last 7 days'])\n",
    "vac = list(region['Vaccinated Rate'])"
   ]
  },
  {
   "cell_type": "code",
   "execution_count": 53,
   "id": "6a83dafa",
   "metadata": {},
   "outputs": [],
   "source": [
    "case_total = (\n",
    "    Bar(init_opts=opts.InitOpts(\n",
    "            width='1400px',\n",
    "            height='600px'),\n",
    "       )\n",
    "    .set_global_opts(\n",
    "    title_opts=opts.TitleOpts(\n",
    "        title='COVID-19 Total Cases',\n",
    "        subtitle='By WHO Region'))\n",
    "    .add_xaxis(continent)\n",
    "    .add_yaxis('Cases Total', case)\n",
    "    .render('cases total.html')\n",
    ")"
   ]
  },
  {
   "cell_type": "markdown",
   "id": "b153c990",
   "metadata": {},
   "source": [
    "![jupyter](../imag/case_total.png)"
   ]
  },
  {
   "cell_type": "code",
   "execution_count": 47,
   "id": "01296532",
   "metadata": {},
   "outputs": [],
   "source": [
    "case_rose = (\n",
    "        Pie()\n",
    "        .add(\n",
    "            series_name=\"\",\n",
    "            data_pair=[list(z) for z in zip(continent[0:5], case[0:5])],\n",
    "            radius=[\"20%\", \"75%\"],\n",
    "            rosetype=\"area\",\n",
    "            label_opts=opts.LabelOpts(is_show=True),\n",
    "        )\n",
    "        .set_global_opts(\n",
    "            title_opts=opts.TitleOpts(title=\"COVID-19 Total Cases\",\n",
    "                                     subtitle='By WHO Region'),\n",
    "            legend_opts=opts.LegendOpts(is_show=False))\n",
    "        .render('case_rose.html')\n",
    "        )"
   ]
  },
  {
   "cell_type": "markdown",
   "id": "950f9b8f",
   "metadata": {},
   "source": [
    "![jupyter](../imag/case_rose.png)"
   ]
  },
  {
   "cell_type": "markdown",
   "id": "a04186c5",
   "metadata": {},
   "source": [
    "## Cases in Last 7 Days"
   ]
  },
  {
   "cell_type": "code",
   "execution_count": 54,
   "id": "85a1ddc1",
   "metadata": {},
   "outputs": [],
   "source": [
    "case_last7 = (\n",
    "    Bar(init_opts=opts.InitOpts(\n",
    "            width='1400px',\n",
    "            height='600px'),\n",
    "       )\n",
    "    .set_global_opts(\n",
    "    title_opts=opts.TitleOpts(\n",
    "        title='COVID-19 Cases in Last 7 Days',\n",
    "        subtitle='By WHO Region'))\n",
    "    .add_xaxis(continent)\n",
    "    .add_yaxis('Cases Last 7 days', case_7)\n",
    "    .render('cases last 7 days.html')\n",
    ")"
   ]
  },
  {
   "cell_type": "markdown",
   "id": "aa30070f",
   "metadata": {},
   "source": [
    "![jupyter](../imag/case_7.png)"
   ]
  },
  {
   "cell_type": "markdown",
   "id": "6ad347de",
   "metadata": {},
   "source": [
    "## Deaths Total"
   ]
  },
  {
   "cell_type": "code",
   "execution_count": 55,
   "id": "86d8ae79",
   "metadata": {},
   "outputs": [],
   "source": [
    "death_total = (\n",
    "    Bar(init_opts=opts.InitOpts(\n",
    "            width='1400px',\n",
    "            height='600px'),\n",
    "       )\n",
    "    .set_global_opts(\n",
    "    title_opts=opts.TitleOpts(\n",
    "        title='COVID-19 Total Deaths',\n",
    "        subtitle='By WHO Region'))\n",
    "    .add_xaxis(continent)\n",
    "    .add_yaxis('Deaths Total', death)\n",
    "    .render('deaths total.html')\n",
    ")"
   ]
  },
  {
   "cell_type": "markdown",
   "id": "04b772eb",
   "metadata": {},
   "source": [
    "![jupyter](../imag/death_total.png)"
   ]
  },
  {
   "cell_type": "code",
   "execution_count": 57,
   "id": "782b338a",
   "metadata": {},
   "outputs": [],
   "source": [
    "death_rose = (\n",
    "        Pie()\n",
    "        .add(\n",
    "            series_name=\"\",\n",
    "            data_pair=[list(z) for z in zip(continent[0:5], death[0:5])],\n",
    "            radius=[\"20%\", \"75%\"],\n",
    "            rosetype=\"area\",\n",
    "            label_opts=opts.LabelOpts(is_show=True),\n",
    "        )\n",
    "        .set_global_opts(\n",
    "            title_opts=opts.TitleOpts(title=\"COVID-19 Total Deaths\",\n",
    "                                     subtitle='By WHO Region'),\n",
    "            legend_opts=opts.LegendOpts(is_show=False))\n",
    "        .render('death_rose.html')\n",
    "        )"
   ]
  },
  {
   "cell_type": "markdown",
   "id": "1cd6ef6f",
   "metadata": {},
   "source": [
    "## Deaths in Last 7 Days"
   ]
  },
  {
   "cell_type": "code",
   "execution_count": 58,
   "id": "ec5cb622",
   "metadata": {},
   "outputs": [],
   "source": [
    "death_last7 = (\n",
    "    Bar(init_opts=opts.InitOpts(\n",
    "            width='1400px',\n",
    "            height='600px'),\n",
    "       )\n",
    "    .set_global_opts(\n",
    "    title_opts=opts.TitleOpts(\n",
    "        title='COVID-19 Deaths in Last 7 Days',\n",
    "        subtitle='By WHO Region'))\n",
    "    .add_xaxis(continent)\n",
    "    .add_yaxis('Deaths Last 7 days', death_7)\n",
    "    .render('deaths last 7 days.html')\n",
    ")"
   ]
  },
  {
   "cell_type": "markdown",
   "id": "a2ed2225",
   "metadata": {},
   "source": [
    "![jupyter](../imag/death_7.png)"
   ]
  },
  {
   "cell_type": "markdown",
   "id": "7037c1d7",
   "metadata": {},
   "source": [
    "## Total Cases V.S. Total Deaths"
   ]
  },
  {
   "cell_type": "code",
   "execution_count": 59,
   "id": "83caba77",
   "metadata": {},
   "outputs": [],
   "source": [
    "vs = (\n",
    "    Bar(init_opts=opts.InitOpts(\n",
    "            width='1400px',\n",
    "            height='600px'),\n",
    "       )\n",
    "    .set_global_opts(\n",
    "    title_opts=opts.TitleOpts(\n",
    "        title='COVID-19 Total Cases V.S. Total Deaths',\n",
    "        subtitle='By WHO Region'))\n",
    "    .add_xaxis(continent)\n",
    "    .add_yaxis('Deaths Total', death, stack=True)\n",
    "    .add_yaxis('Cases Total', case, stack=True)\n",
    "    .render('vs.html')\n",
    ")"
   ]
  },
  {
   "cell_type": "markdown",
   "id": "b347c9c8",
   "metadata": {},
   "source": [
    "![jupyter](../imag/vs.png)"
   ]
  },
  {
   "cell_type": "markdown",
   "id": "efebfeb1",
   "metadata": {},
   "source": [
    "## Cases in Last 7 Days V.S. Deaths in Last 7 Days"
   ]
  },
  {
   "cell_type": "code",
   "execution_count": 62,
   "id": "e368b126",
   "metadata": {},
   "outputs": [],
   "source": [
    "vs_7 = (\n",
    "    Bar(init_opts=opts.InitOpts(\n",
    "            width='1400px',\n",
    "            height='600px'),\n",
    "       )\n",
    "    .set_global_opts(\n",
    "    title_opts=opts.TitleOpts(\n",
    "        title='COVID-19 Total Cases V.S. Total Deaths',\n",
    "        subtitle='By WHO Region'))\n",
    "    .add_xaxis(continent)\n",
    "    .add_yaxis('Deaths Last 7 Days', death_7, stack=True)\n",
    "    .add_yaxis('Cases Last 7 Days', case_7, stack=True)\n",
    "    .render('vs_7.html')\n",
    ")"
   ]
  },
  {
   "cell_type": "markdown",
   "id": "bee702b2",
   "metadata": {},
   "source": [
    "![jupyter](../imag/vs_7.png)"
   ]
  },
  {
   "cell_type": "markdown",
   "id": "a2b0ffa2",
   "metadata": {},
   "source": [
    "## Total Vaccination Doses"
   ]
  },
  {
   "cell_type": "code",
   "execution_count": 63,
   "id": "455a8b25",
   "metadata": {},
   "outputs": [],
   "source": [
    "vac_total = (\n",
    "    Bar(init_opts=opts.InitOpts(\n",
    "            width='1400px',\n",
    "            height='600px'),\n",
    "       )\n",
    "    .set_global_opts(\n",
    "    title_opts=opts.TitleOpts(\n",
    "        title='COVID-19 Total Vaccinations',\n",
    "        subtitle='By WHO Region'))\n",
    "    .add_xaxis(continent)\n",
    "    .add_yaxis('Vaccination Total%', vac)\n",
    "    .render('vac total.html')\n",
    ")"
   ]
  },
  {
   "cell_type": "markdown",
   "id": "76545cd0",
   "metadata": {},
   "source": [
    "![jupyter](../imag/vac.png)"
   ]
  },
  {
   "cell_type": "code",
   "execution_count": null,
   "id": "cec75b71",
   "metadata": {},
   "outputs": [],
   "source": []
  }
 ],
 "metadata": {
  "kernelspec": {
   "display_name": "Python 3",
   "language": "python",
   "name": "python3"
  },
  "language_info": {
   "codemirror_mode": {
    "name": "ipython",
    "version": 3
   },
   "file_extension": ".py",
   "mimetype": "text/x-python",
   "name": "python",
   "nbconvert_exporter": "python",
   "pygments_lexer": "ipython3",
   "version": "3.8.8"
  }
 },
 "nbformat": 4,
 "nbformat_minor": 5
}
